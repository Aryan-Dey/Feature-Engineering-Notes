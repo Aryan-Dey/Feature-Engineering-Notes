{
 "cells": [
  {
   "cell_type": "code",
   "execution_count": 1,
   "metadata": {},
   "outputs": [],
   "source": [
    "import pandas as pd\n",
    "import numpy as np"
   ]
  },
  {
   "cell_type": "code",
   "execution_count": 6,
   "metadata": {},
   "outputs": [],
   "source": [
    "date = pd.read_csv('E:\\\\Notes\\\\Statistics\\\\Feature Engineering\\\\Datasets\\\\orders.csv',usecols=['date','product_id'])\n",
    "time = pd.read_csv('E:\\\\Notes\\\\Statistics\\\\Feature Engineering\\\\Datasets\\\\messages.csv')"
   ]
  },
  {
   "cell_type": "markdown",
   "metadata": {},
   "source": [
    "#### **Working with Date Dataset**"
   ]
  },
  {
   "cell_type": "code",
   "execution_count": 7,
   "metadata": {},
   "outputs": [
    {
     "data": {
      "text/html": [
       "<div>\n",
       "<style scoped>\n",
       "    .dataframe tbody tr th:only-of-type {\n",
       "        vertical-align: middle;\n",
       "    }\n",
       "\n",
       "    .dataframe tbody tr th {\n",
       "        vertical-align: top;\n",
       "    }\n",
       "\n",
       "    .dataframe thead th {\n",
       "        text-align: right;\n",
       "    }\n",
       "</style>\n",
       "<table border=\"1\" class=\"dataframe\">\n",
       "  <thead>\n",
       "    <tr style=\"text-align: right;\">\n",
       "      <th></th>\n",
       "      <th>date</th>\n",
       "      <th>product_id</th>\n",
       "    </tr>\n",
       "  </thead>\n",
       "  <tbody>\n",
       "    <tr>\n",
       "      <th>0</th>\n",
       "      <td>2019-12-10</td>\n",
       "      <td>5628</td>\n",
       "    </tr>\n",
       "    <tr>\n",
       "      <th>1</th>\n",
       "      <td>2018-08-15</td>\n",
       "      <td>3646</td>\n",
       "    </tr>\n",
       "    <tr>\n",
       "      <th>2</th>\n",
       "      <td>2018-10-23</td>\n",
       "      <td>1859</td>\n",
       "    </tr>\n",
       "    <tr>\n",
       "      <th>3</th>\n",
       "      <td>2019-08-17</td>\n",
       "      <td>7292</td>\n",
       "    </tr>\n",
       "    <tr>\n",
       "      <th>4</th>\n",
       "      <td>2019-01-06</td>\n",
       "      <td>4344</td>\n",
       "    </tr>\n",
       "  </tbody>\n",
       "</table>\n",
       "</div>"
      ],
      "text/plain": [
       "         date  product_id\n",
       "0  2019-12-10        5628\n",
       "1  2018-08-15        3646\n",
       "2  2018-10-23        1859\n",
       "3  2019-08-17        7292\n",
       "4  2019-01-06        4344"
      ]
     },
     "execution_count": 7,
     "metadata": {},
     "output_type": "execute_result"
    }
   ],
   "source": [
    "date.head()"
   ]
  },
  {
   "cell_type": "code",
   "execution_count": 8,
   "metadata": {},
   "outputs": [
    {
     "name": "stdout",
     "output_type": "stream",
     "text": [
      "<class 'pandas.core.frame.DataFrame'>\n",
      "RangeIndex: 1000 entries, 0 to 999\n",
      "Data columns (total 2 columns):\n",
      " #   Column      Non-Null Count  Dtype \n",
      "---  ------      --------------  ----- \n",
      " 0   date        1000 non-null   object\n",
      " 1   product_id  1000 non-null   int64 \n",
      "dtypes: int64(1), object(1)\n",
      "memory usage: 15.8+ KB\n"
     ]
    }
   ],
   "source": [
    "date.info()"
   ]
  },
  {
   "cell_type": "code",
   "execution_count": 10,
   "metadata": {},
   "outputs": [
    {
     "name": "stdout",
     "output_type": "stream",
     "text": [
      "<class 'pandas.core.frame.DataFrame'>\n",
      "RangeIndex: 1000 entries, 0 to 999\n",
      "Data columns (total 2 columns):\n",
      " #   Column      Non-Null Count  Dtype         \n",
      "---  ------      --------------  -----         \n",
      " 0   date        1000 non-null   datetime64[ns]\n",
      " 1   product_id  1000 non-null   int64         \n",
      "dtypes: datetime64[ns](1), int64(1)\n",
      "memory usage: 15.8 KB\n"
     ]
    }
   ],
   "source": [
    "# Coverting date column from object(string) to datetime\n",
    "date['date'] = pd.to_datetime(date['date'])\n",
    "date.info()"
   ]
  },
  {
   "cell_type": "code",
   "execution_count": null,
   "metadata": {},
   "outputs": [
    {
     "data": {
      "text/html": [
       "<div>\n",
       "<style scoped>\n",
       "    .dataframe tbody tr th:only-of-type {\n",
       "        vertical-align: middle;\n",
       "    }\n",
       "\n",
       "    .dataframe tbody tr th {\n",
       "        vertical-align: top;\n",
       "    }\n",
       "\n",
       "    .dataframe thead th {\n",
       "        text-align: right;\n",
       "    }\n",
       "</style>\n",
       "<table border=\"1\" class=\"dataframe\">\n",
       "  <thead>\n",
       "    <tr style=\"text-align: right;\">\n",
       "      <th></th>\n",
       "      <th>date</th>\n",
       "      <th>product_id</th>\n",
       "      <th>Year</th>\n",
       "      <th>Month</th>\n",
       "      <th>Day</th>\n",
       "      <th>Day_name</th>\n",
       "    </tr>\n",
       "  </thead>\n",
       "  <tbody>\n",
       "    <tr>\n",
       "      <th>236</th>\n",
       "      <td>2018-08-24</td>\n",
       "      <td>4576</td>\n",
       "      <td>2018</td>\n",
       "      <td>8</td>\n",
       "      <td>24</td>\n",
       "      <td>Friday</td>\n",
       "    </tr>\n",
       "    <tr>\n",
       "      <th>525</th>\n",
       "      <td>2019-06-13</td>\n",
       "      <td>2249</td>\n",
       "      <td>2019</td>\n",
       "      <td>6</td>\n",
       "      <td>13</td>\n",
       "      <td>Thursday</td>\n",
       "    </tr>\n",
       "    <tr>\n",
       "      <th>406</th>\n",
       "      <td>2018-11-20</td>\n",
       "      <td>1081</td>\n",
       "      <td>2018</td>\n",
       "      <td>11</td>\n",
       "      <td>20</td>\n",
       "      <td>Tuesday</td>\n",
       "    </tr>\n",
       "    <tr>\n",
       "      <th>627</th>\n",
       "      <td>2018-08-01</td>\n",
       "      <td>4568</td>\n",
       "      <td>2018</td>\n",
       "      <td>8</td>\n",
       "      <td>1</td>\n",
       "      <td>Wednesday</td>\n",
       "    </tr>\n",
       "    <tr>\n",
       "      <th>92</th>\n",
       "      <td>2019-05-30</td>\n",
       "      <td>5788</td>\n",
       "      <td>2019</td>\n",
       "      <td>5</td>\n",
       "      <td>30</td>\n",
       "      <td>Thursday</td>\n",
       "    </tr>\n",
       "  </tbody>\n",
       "</table>\n",
       "</div>"
      ],
      "text/plain": [
       "          date  product_id  Year  Month  Day   Day_name\n",
       "236 2018-08-24        4576  2018      8   24     Friday\n",
       "525 2019-06-13        2249  2019      6   13   Thursday\n",
       "406 2018-11-20        1081  2018     11   20    Tuesday\n",
       "627 2018-08-01        4568  2018      8    1  Wednesday\n",
       "92  2019-05-30        5788  2019      5   30   Thursday"
      ]
     },
     "execution_count": 22,
     "metadata": {},
     "output_type": "execute_result"
    }
   ],
   "source": [
    "# Extracting year, month , day\n",
    "date['Year'] = date['date'].dt.year\n",
    "date['Month'] = date['date'].dt.month\n",
    "date['Day'] = date['date'].dt.day\n",
    "\n",
    "date.sample(5)"
   ]
  },
  {
   "cell_type": "code",
   "execution_count": 31,
   "metadata": {},
   "outputs": [
    {
     "data": {
      "text/html": [
       "<div>\n",
       "<style scoped>\n",
       "    .dataframe tbody tr th:only-of-type {\n",
       "        vertical-align: middle;\n",
       "    }\n",
       "\n",
       "    .dataframe tbody tr th {\n",
       "        vertical-align: top;\n",
       "    }\n",
       "\n",
       "    .dataframe thead th {\n",
       "        text-align: right;\n",
       "    }\n",
       "</style>\n",
       "<table border=\"1\" class=\"dataframe\">\n",
       "  <thead>\n",
       "    <tr style=\"text-align: right;\">\n",
       "      <th></th>\n",
       "      <th>date</th>\n",
       "      <th>product_id</th>\n",
       "      <th>Year</th>\n",
       "      <th>Month</th>\n",
       "      <th>Day</th>\n",
       "      <th>Day_name</th>\n",
       "      <th>Month_name</th>\n",
       "      <th>Day of Week</th>\n",
       "      <th>Date is weekend</th>\n",
       "      <th>Week</th>\n",
       "      <th>Quater</th>\n",
       "      <th>Is Leap Year</th>\n",
       "    </tr>\n",
       "  </thead>\n",
       "  <tbody>\n",
       "    <tr>\n",
       "      <th>584</th>\n",
       "      <td>2018-12-16</td>\n",
       "      <td>1520</td>\n",
       "      <td>2018</td>\n",
       "      <td>12</td>\n",
       "      <td>16</td>\n",
       "      <td>Sunday</td>\n",
       "      <td>December</td>\n",
       "      <td>6</td>\n",
       "      <td>1</td>\n",
       "      <td>50</td>\n",
       "      <td>4</td>\n",
       "      <td>False</td>\n",
       "    </tr>\n",
       "    <tr>\n",
       "      <th>655</th>\n",
       "      <td>2019-10-07</td>\n",
       "      <td>4419</td>\n",
       "      <td>2019</td>\n",
       "      <td>10</td>\n",
       "      <td>7</td>\n",
       "      <td>Monday</td>\n",
       "      <td>October</td>\n",
       "      <td>0</td>\n",
       "      <td>0</td>\n",
       "      <td>41</td>\n",
       "      <td>4</td>\n",
       "      <td>False</td>\n",
       "    </tr>\n",
       "    <tr>\n",
       "      <th>471</th>\n",
       "      <td>2018-11-05</td>\n",
       "      <td>6430</td>\n",
       "      <td>2018</td>\n",
       "      <td>11</td>\n",
       "      <td>5</td>\n",
       "      <td>Monday</td>\n",
       "      <td>November</td>\n",
       "      <td>0</td>\n",
       "      <td>0</td>\n",
       "      <td>45</td>\n",
       "      <td>4</td>\n",
       "      <td>False</td>\n",
       "    </tr>\n",
       "    <tr>\n",
       "      <th>978</th>\n",
       "      <td>2018-11-13</td>\n",
       "      <td>2845</td>\n",
       "      <td>2018</td>\n",
       "      <td>11</td>\n",
       "      <td>13</td>\n",
       "      <td>Tuesday</td>\n",
       "      <td>November</td>\n",
       "      <td>1</td>\n",
       "      <td>0</td>\n",
       "      <td>46</td>\n",
       "      <td>4</td>\n",
       "      <td>False</td>\n",
       "    </tr>\n",
       "    <tr>\n",
       "      <th>901</th>\n",
       "      <td>2019-07-24</td>\n",
       "      <td>7148</td>\n",
       "      <td>2019</td>\n",
       "      <td>7</td>\n",
       "      <td>24</td>\n",
       "      <td>Wednesday</td>\n",
       "      <td>July</td>\n",
       "      <td>2</td>\n",
       "      <td>0</td>\n",
       "      <td>30</td>\n",
       "      <td>3</td>\n",
       "      <td>False</td>\n",
       "    </tr>\n",
       "  </tbody>\n",
       "</table>\n",
       "</div>"
      ],
      "text/plain": [
       "          date  product_id  Year  Month  Day   Day_name Month_name  \\\n",
       "584 2018-12-16        1520  2018     12   16     Sunday   December   \n",
       "655 2019-10-07        4419  2019     10    7     Monday    October   \n",
       "471 2018-11-05        6430  2018     11    5     Monday   November   \n",
       "978 2018-11-13        2845  2018     11   13    Tuesday   November   \n",
       "901 2019-07-24        7148  2019      7   24  Wednesday       July   \n",
       "\n",
       "     Day of Week  Date is weekend  Week  Quater  Is Leap Year  \n",
       "584            6                1    50       4         False  \n",
       "655            0                0    41       4         False  \n",
       "471            0                0    45       4         False  \n",
       "978            1                0    46       4         False  \n",
       "901            2                0    30       3         False  "
      ]
     },
     "execution_count": 31,
     "metadata": {},
     "output_type": "execute_result"
    }
   ],
   "source": [
    "# Extracting Day and month name, Day of week, week of the year, quarter\n",
    "date['Day_name'] = date['date'].dt.day_name()\n",
    "date['Month_name'] = date['date'].dt.month_name()\n",
    "date['Day of Week'] = date['date'].dt.day_of_week\n",
    "date['Week'] = date['date'].dt.isocalendar().week\n",
    "date['Quater'] = date['date'].dt.quarter\n",
    "date['Is Leap Year'] = date['date'].dt.is_leap_year\n",
    "\n",
    "date.sample(5)"
   ]
  },
  {
   "cell_type": "code",
   "execution_count": 25,
   "metadata": {},
   "outputs": [
    {
     "data": {
      "text/html": [
       "<div>\n",
       "<style scoped>\n",
       "    .dataframe tbody tr th:only-of-type {\n",
       "        vertical-align: middle;\n",
       "    }\n",
       "\n",
       "    .dataframe tbody tr th {\n",
       "        vertical-align: top;\n",
       "    }\n",
       "\n",
       "    .dataframe thead th {\n",
       "        text-align: right;\n",
       "    }\n",
       "</style>\n",
       "<table border=\"1\" class=\"dataframe\">\n",
       "  <thead>\n",
       "    <tr style=\"text-align: right;\">\n",
       "      <th></th>\n",
       "      <th>date</th>\n",
       "      <th>product_id</th>\n",
       "      <th>Year</th>\n",
       "      <th>Month</th>\n",
       "      <th>Day</th>\n",
       "      <th>Day_name</th>\n",
       "      <th>Month_name</th>\n",
       "      <th>Day of Week</th>\n",
       "      <th>Date is weekend</th>\n",
       "    </tr>\n",
       "  </thead>\n",
       "  <tbody>\n",
       "    <tr>\n",
       "      <th>626</th>\n",
       "      <td>2019-12-07</td>\n",
       "      <td>6668</td>\n",
       "      <td>2019</td>\n",
       "      <td>12</td>\n",
       "      <td>7</td>\n",
       "      <td>Saturday</td>\n",
       "      <td>December</td>\n",
       "      <td>5</td>\n",
       "      <td>1</td>\n",
       "    </tr>\n",
       "    <tr>\n",
       "      <th>488</th>\n",
       "      <td>2019-10-30</td>\n",
       "      <td>6663</td>\n",
       "      <td>2019</td>\n",
       "      <td>10</td>\n",
       "      <td>30</td>\n",
       "      <td>Wednesday</td>\n",
       "      <td>October</td>\n",
       "      <td>2</td>\n",
       "      <td>0</td>\n",
       "    </tr>\n",
       "    <tr>\n",
       "      <th>970</th>\n",
       "      <td>2018-11-23</td>\n",
       "      <td>3197</td>\n",
       "      <td>2018</td>\n",
       "      <td>11</td>\n",
       "      <td>23</td>\n",
       "      <td>Friday</td>\n",
       "      <td>November</td>\n",
       "      <td>4</td>\n",
       "      <td>0</td>\n",
       "    </tr>\n",
       "    <tr>\n",
       "      <th>290</th>\n",
       "      <td>2018-12-05</td>\n",
       "      <td>4254</td>\n",
       "      <td>2018</td>\n",
       "      <td>12</td>\n",
       "      <td>5</td>\n",
       "      <td>Wednesday</td>\n",
       "      <td>December</td>\n",
       "      <td>2</td>\n",
       "      <td>0</td>\n",
       "    </tr>\n",
       "    <tr>\n",
       "      <th>534</th>\n",
       "      <td>2019-01-23</td>\n",
       "      <td>5615</td>\n",
       "      <td>2019</td>\n",
       "      <td>1</td>\n",
       "      <td>23</td>\n",
       "      <td>Wednesday</td>\n",
       "      <td>January</td>\n",
       "      <td>2</td>\n",
       "      <td>0</td>\n",
       "    </tr>\n",
       "  </tbody>\n",
       "</table>\n",
       "</div>"
      ],
      "text/plain": [
       "          date  product_id  Year  Month  Day   Day_name Month_name  \\\n",
       "626 2019-12-07        6668  2019     12    7   Saturday   December   \n",
       "488 2019-10-30        6663  2019     10   30  Wednesday    October   \n",
       "970 2018-11-23        3197  2018     11   23     Friday   November   \n",
       "290 2018-12-05        4254  2018     12    5  Wednesday   December   \n",
       "534 2019-01-23        5615  2019      1   23  Wednesday    January   \n",
       "\n",
       "     Day of Week  Date is weekend  \n",
       "626            5                1  \n",
       "488            2                0  \n",
       "970            4                0  \n",
       "290            2                0  \n",
       "534            2                0  "
      ]
     },
     "execution_count": 25,
     "metadata": {},
     "output_type": "execute_result"
    }
   ],
   "source": [
    "# Checking if its weekend\n",
    "date['Date is weekend'] = np.where(date['Day_name'].isin(['Sunday','Saturday']),1,0)\n",
    "\n",
    "date.sample(5)"
   ]
  },
  {
   "cell_type": "code",
   "execution_count": null,
   "metadata": {},
   "outputs": [
    {
     "name": "stdout",
     "output_type": "stream",
     "text": [
      "2025-03-08 05:02:01.740073 \n",
      "\n",
      "0     1915 days 05:02:01.740073\n",
      "1     2397 days 05:02:01.740073\n",
      "2     2328 days 05:02:01.740073\n",
      "3     2030 days 05:02:01.740073\n",
      "4     2253 days 05:02:01.740073\n",
      "                 ...           \n",
      "995   2343 days 05:02:01.740073\n",
      "996   2284 days 05:02:01.740073\n",
      "997   2132 days 05:02:01.740073\n",
      "998   2197 days 05:02:01.740073\n",
      "999   1971 days 05:02:01.740073\n",
      "Name: date, Length: 1000, dtype: timedelta64[ns] \n",
      "\n"
     ]
    },
    {
     "data": {
      "text/plain": [
       "0      1915\n",
       "1      2397\n",
       "2      2328\n",
       "3      2030\n",
       "4      2253\n",
       "       ... \n",
       "995    2343\n",
       "996    2284\n",
       "997    2132\n",
       "998    2197\n",
       "999    1971\n",
       "Name: date, Length: 1000, dtype: int64"
      ]
     },
     "execution_count": 33,
     "metadata": {},
     "output_type": "execute_result"
    }
   ],
   "source": [
    "# Extract Time Elapsed b/w dates\n",
    "import datetime\n",
    "\n",
    "today = datetime.datetime.today()\n",
    "print(today,'\\n')\n",
    "\n",
    "print(today - date['date'],'\\n')\n",
    "\n",
    "# Extracting Day wala part\n",
    "(today - date['date']).dt.days"
   ]
  },
  {
   "cell_type": "markdown",
   "metadata": {},
   "source": [
    "#### **Working With Time Dataset**"
   ]
  },
  {
   "cell_type": "code",
   "execution_count": 36,
   "metadata": {},
   "outputs": [
    {
     "name": "stdout",
     "output_type": "stream",
     "text": [
      "<class 'pandas.core.frame.DataFrame'>\n",
      "RangeIndex: 1000 entries, 0 to 999\n",
      "Data columns (total 2 columns):\n",
      " #   Column  Non-Null Count  Dtype \n",
      "---  ------  --------------  ----- \n",
      " 0   date    1000 non-null   object\n",
      " 1   msg     1000 non-null   object\n",
      "dtypes: object(2)\n",
      "memory usage: 15.8+ KB\n",
      "                  date                                                msg\n",
      "0  2013-12-15 00:50:00                           ищу на сегодня мужика 37\n",
      "1  2014-04-29 23:40:00   ПАРЕНЬ БИ ИЩЕТ ДРУГА СЕЙЧАС!! СМС ММС 0955532826\n",
      "2  2012-12-30 00:21:00           Днепр.м 43 позн.с д/ж *.о  067.16.34.576\n",
      "3  2014-11-28 00:31:00  КИЕВ ИЩУ Д/Ж ДО 45 МНЕ СЕЙЧАС СКУЧНО 093 629 9...\n",
      "4  2013-10-26 23:11:00    Зая я тебя никогда не обижу  люблю тебя!)  Даше\n"
     ]
    }
   ],
   "source": [
    "time.info()\n",
    "\n",
    "print(time.head(5))"
   ]
  },
  {
   "cell_type": "code",
   "execution_count": 38,
   "metadata": {},
   "outputs": [
    {
     "name": "stdout",
     "output_type": "stream",
     "text": [
      "<class 'pandas.core.frame.DataFrame'>\n",
      "RangeIndex: 1000 entries, 0 to 999\n",
      "Data columns (total 2 columns):\n",
      " #   Column  Non-Null Count  Dtype         \n",
      "---  ------  --------------  -----         \n",
      " 0   date    1000 non-null   datetime64[ns]\n",
      " 1   msg     1000 non-null   object        \n",
      "dtypes: datetime64[ns](1), object(1)\n",
      "memory usage: 15.8+ KB\n"
     ]
    }
   ],
   "source": [
    "# COnverting date-time column (string) to datetime\n",
    "time['date'] = pd.to_datetime(time['date'])\n",
    "time.info()"
   ]
  },
  {
   "cell_type": "code",
   "execution_count": 39,
   "metadata": {},
   "outputs": [
    {
     "data": {
      "text/html": [
       "<div>\n",
       "<style scoped>\n",
       "    .dataframe tbody tr th:only-of-type {\n",
       "        vertical-align: middle;\n",
       "    }\n",
       "\n",
       "    .dataframe tbody tr th {\n",
       "        vertical-align: top;\n",
       "    }\n",
       "\n",
       "    .dataframe thead th {\n",
       "        text-align: right;\n",
       "    }\n",
       "</style>\n",
       "<table border=\"1\" class=\"dataframe\">\n",
       "  <thead>\n",
       "    <tr style=\"text-align: right;\">\n",
       "      <th></th>\n",
       "      <th>date</th>\n",
       "      <th>msg</th>\n",
       "      <th>Time</th>\n",
       "      <th>Hour</th>\n",
       "      <th>Mins</th>\n",
       "      <th>Sec</th>\n",
       "    </tr>\n",
       "  </thead>\n",
       "  <tbody>\n",
       "    <tr>\n",
       "      <th>352</th>\n",
       "      <td>2014-11-02 00:18:00</td>\n",
       "      <td>Машенька  ты самая лучшая на свете!! Я люблю т...</td>\n",
       "      <td>00:18:00</td>\n",
       "      <td>0</td>\n",
       "      <td>18</td>\n",
       "      <td>0</td>\n",
       "    </tr>\n",
       "    <tr>\n",
       "      <th>152</th>\n",
       "      <td>2014-11-02 00:27:00</td>\n",
       "      <td>Девушки кто скучает жду вгости Киев.Мне 27лет ...</td>\n",
       "      <td>00:27:00</td>\n",
       "      <td>0</td>\n",
       "      <td>27</td>\n",
       "      <td>0</td>\n",
       "    </tr>\n",
       "    <tr>\n",
       "      <th>235</th>\n",
       "      <td>2013-12-06 00:58:00</td>\n",
       "      <td>Одинокий М купил квартиру в центре кто на наво...</td>\n",
       "      <td>00:58:00</td>\n",
       "      <td>0</td>\n",
       "      <td>58</td>\n",
       "      <td>0</td>\n",
       "    </tr>\n",
       "    <tr>\n",
       "      <th>505</th>\n",
       "      <td>2014-02-24 01:00:00</td>\n",
       "      <td>Люба ищу своего бойфренда 33 г</td>\n",
       "      <td>01:00:00</td>\n",
       "      <td>1</td>\n",
       "      <td>0</td>\n",
       "      <td>0</td>\n",
       "    </tr>\n",
       "    <tr>\n",
       "      <th>165</th>\n",
       "      <td>2014-03-01 23:29:00</td>\n",
       "      <td>Владимир 38 позн. с Ж для редких встреч и ощ.</td>\n",
       "      <td>23:29:00</td>\n",
       "      <td>23</td>\n",
       "      <td>29</td>\n",
       "      <td>0</td>\n",
       "    </tr>\n",
       "  </tbody>\n",
       "</table>\n",
       "</div>"
      ],
      "text/plain": [
       "                   date                                                msg  \\\n",
       "352 2014-11-02 00:18:00  Машенька  ты самая лучшая на свете!! Я люблю т...   \n",
       "152 2014-11-02 00:27:00  Девушки кто скучает жду вгости Киев.Мне 27лет ...   \n",
       "235 2013-12-06 00:58:00  Одинокий М купил квартиру в центре кто на наво...   \n",
       "505 2014-02-24 01:00:00                     Люба ищу своего бойфренда 33 г   \n",
       "165 2014-03-01 23:29:00      Владимир 38 позн. с Ж для редких встреч и ощ.   \n",
       "\n",
       "         Time  Hour  Mins  Sec  \n",
       "352  00:18:00     0    18    0  \n",
       "152  00:27:00     0    27    0  \n",
       "235  00:58:00     0    58    0  \n",
       "505  01:00:00     1     0    0  \n",
       "165  23:29:00    23    29    0  "
      ]
     },
     "execution_count": 39,
     "metadata": {},
     "output_type": "execute_result"
    }
   ],
   "source": [
    "# Extracting Time, hour, mins, sec\n",
    "time['Time'] = time['date'].dt.time\n",
    "time['Hour'] = time['date'].dt.hour\n",
    "time['Mins'] = time['date'].dt.minute\n",
    "time['Sec'] = time['date'].dt.second\n",
    "\n",
    "time.sample(5)"
   ]
  },
  {
   "cell_type": "code",
   "execution_count": 40,
   "metadata": {},
   "outputs": [
    {
     "data": {
      "text/plain": [
       "0     4101 days 04:12:01.740073\n",
       "1     3965 days 05:22:01.740073\n",
       "2     4451 days 04:41:01.740073\n",
       "3     3753 days 04:31:01.740073\n",
       "4     4150 days 05:51:01.740073\n",
       "                 ...           \n",
       "995   4740 days 04:12:01.740073\n",
       "996   4061 days 05:48:01.740073\n",
       "997   4526 days 05:25:01.740073\n",
       "998   4642 days 05:28:01.740073\n",
       "999   3914 days 05:37:01.740073\n",
       "Name: date, Length: 1000, dtype: timedelta64[ns]"
      ]
     },
     "execution_count": 40,
     "metadata": {},
     "output_type": "execute_result"
    }
   ],
   "source": [
    "# Time difference\n",
    "today - time['date']"
   ]
  },
  {
   "cell_type": "code",
   "execution_count": 41,
   "metadata": {},
   "outputs": [
    {
     "data": {
      "text/plain": [
       "0      3.543415e+08\n",
       "1      3.425953e+08\n",
       "2      3.845833e+08\n",
       "3      3.242755e+08\n",
       "4      3.585811e+08\n",
       "           ...     \n",
       "995    4.095511e+08\n",
       "996    3.508913e+08\n",
       "997    3.910659e+08\n",
       "998    4.010885e+08\n",
       "999    3.381898e+08\n",
       "Name: date, Length: 1000, dtype: float64"
      ]
     },
     "execution_count": 41,
     "metadata": {},
     "output_type": "execute_result"
    }
   ],
   "source": [
    "# in seconds\n",
    "\n",
    "(today - time['date'])/np.timedelta64(1,'s')"
   ]
  }
 ],
 "metadata": {
  "kernelspec": {
   "display_name": "Python 3",
   "language": "python",
   "name": "python3"
  },
  "language_info": {
   "codemirror_mode": {
    "name": "ipython",
    "version": 3
   },
   "file_extension": ".py",
   "mimetype": "text/x-python",
   "name": "python",
   "nbconvert_exporter": "python",
   "pygments_lexer": "ipython3",
   "version": "3.12.5"
  }
 },
 "nbformat": 4,
 "nbformat_minor": 2
}
